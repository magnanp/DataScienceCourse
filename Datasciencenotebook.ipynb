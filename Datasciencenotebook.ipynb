{
 "cells": [
  {
   "cell_type": "markdown",
   "id": "8183469d-c0ce-46ca-8bad-cbe249d49b66",
   "metadata": {
    "tags": []
   },
   "source": [
    "# Data Science Tools and Ecosystem"
   ]
  },
  {
   "cell_type": "markdown",
   "id": "49796b87-d2a4-4697-bbb1-eceb6cc63f28",
   "metadata": {},
   "source": [
    "in this notebook, Data Science Tools and Ecosystem are summarized"
   ]
  },
  {
   "cell_type": "markdown",
   "id": "cb75556c-b52c-4aad-8a91-871e3a4e3c2b",
   "metadata": {},
   "source": [
    "**Objectives**\n",
    "- List popular languages for data science\n",
    "- List some libraries used in data science\n",
    "- Learn the basics of markdown"
   ]
  },
  {
   "cell_type": "markdown",
   "id": "54b50bd9-3af3-4cc9-a0da-a8ae193c4ae3",
   "metadata": {},
   "source": [
    "Some of the popular languages that Data Scientists use are:\n",
    "1. Python\n",
    "2. R\n",
    "3. Java\n",
    "4. Swift"
   ]
  },
  {
   "cell_type": "markdown",
   "id": "f5c52a9a-f9d0-4317-9ded-eb9c04b010f5",
   "metadata": {},
   "source": [
    "Some of the commonly used libraries by Data Scientist are:\n",
    "1. Matplotlib\n",
    "2. Pandas\n",
    "3. Seaborn\n",
    "- Note: These are all Python related"
   ]
  },
  {
   "cell_type": "markdown",
   "id": "3dee6838-a226-463b-9552-5a2baadce76f",
   "metadata": {},
   "source": [
    "| Data Science Tools |\n",
    "|--------------------|\n",
    "| Anaconda |\n",
    "| Jupyter Notebook |\n",
    "| Pycharm |\n",
    "| RStudio |\n",
    "| TensorFlow |"
   ]
  },
  {
   "cell_type": "markdown",
   "id": "281ed323-e2ef-445e-b184-a1d69300f568",
   "metadata": {},
   "source": [
    "### Below are a few examples of evaluating arithmetic expressions in Python:\n",
    "- To have a negative number or to subtract, use - Example: 5-3 will equal to 2\n",
    "- To add, use + Example 5+3 will equal 8"
   ]
  },
  {
   "cell_type": "code",
   "execution_count": 1,
   "id": "324ce90f-ce1a-4adc-9ca7-a24893c0e5d7",
   "metadata": {
    "tags": []
   },
   "outputs": [
    {
     "data": {
      "text/plain": [
       "17"
      ]
     },
     "execution_count": 1,
     "metadata": {},
     "output_type": "execute_result"
    }
   ],
   "source": [
    "# This is a simple arithmetic expressionto multiply then add integers.\n",
    "(3*4)+5"
   ]
  },
  {
   "cell_type": "code",
   "execution_count": null,
   "id": "947d07e0-770e-4a64-8233-e41b1f09de64",
   "metadata": {
    "tags": []
   },
   "outputs": [],
   "source": [
    "# This will convert 200 minutes to hours by dividng by 60\n",
    "200/60"
   ]
  },
  {
   "cell_type": "markdown",
   "id": "4e67e2da-21c9-4bd1-ac2f-cc91562003d2",
   "metadata": {},
   "source": [
    "## Author\n",
    "Pierre Magnan"
   ]
  },
  {
   "cell_type": "code",
   "execution_count": null,
   "id": "52c6fd14-f4bb-4b9d-a3c6-334c71262c68",
   "metadata": {},
   "outputs": [],
   "source": []
  }
 ],
 "metadata": {
  "kernelspec": {
   "display_name": "Python",
   "language": "python",
   "name": "conda-env-python-py"
  },
  "language_info": {
   "codemirror_mode": {
    "name": "ipython",
    "version": 3
   },
   "file_extension": ".py",
   "mimetype": "text/x-python",
   "name": "python",
   "nbconvert_exporter": "python",
   "pygments_lexer": "ipython3",
   "version": "3.7.12"
  }
 },
 "nbformat": 4,
 "nbformat_minor": 5
}
